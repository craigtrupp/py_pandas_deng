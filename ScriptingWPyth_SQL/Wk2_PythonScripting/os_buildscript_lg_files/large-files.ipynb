{
 "cells": [
  {
   "cell_type": "markdown",
   "metadata": {},
   "source": [
    "Go through the basics of creating a Python script, and then create a Python file for the script to run it on the terminal. In this practice notebook, you'll create the building blocks for a script that finds large files on the filesytem"
   ]
  },
  {
   "cell_type": "markdown",
   "metadata": {},
   "source": [
    "## Get the logic right \n",
    "Start by defining some of the requirements of the script. In this case, we need to:\n",
    "- _Walk_ the filesystem looking at files, directories and sub-directories\n",
    "- Capture file information: is it a file? a directory? what size? what path?\n",
    "- Store that information in a suitable data structure\n",
    "- Report the sorted data what are the largest files by looking at the data structure"
   ]
  },
  {
   "cell_type": "code",
   "execution_count": 7,
   "metadata": {},
   "outputs": [
    {
     "name": "stdout",
     "output_type": "stream",
     "text": [
      "<class 'str'> <class 'list'> <class 'list'>\n",
      ". ['scripts', '.git', '.ipynb_checkpoints'] ['large_files.py', '.gitignore', 'querying-databases.ipynb', 'README.md', 'sqlite-operations.ipynb', 'large-files.ipynb']\n"
     ]
    }
   ],
   "source": [
    "import os\n",
    "# os.walk() return a series of tuples values for path, directories(folders) and files\n",
    "# below is simply the root path and then the subsequent folders and files at that particular path\n",
    "for dirpath, dirnames, filenames in os.walk('.'):\n",
    "    print(type(dirpath), type(dirnames), type(filenames))\n",
    "    print(dirpath, dirnames, filenames)\n",
    "    break"
   ]
  },
  {
   "cell_type": "code",
   "execution_count": 16,
   "metadata": {},
   "outputs": [
    {
     "name": "stdout",
     "output_type": "stream",
     "text": [
      "dict_keys(['.', './scripts', './.git', './.git/refs', './.git/refs/heads', './.git/refs/remotes', './.git/refs/remotes/origin', './.git/hooks', './.git/info', './.git/objects', './.git/objects/88', './.git/objects/dd', './.git/objects/ec', './.git/objects/d4', './.git/objects/b6', './.git/objects/17', './.git/objects/c1', './.git/objects/c9', './.git/objects/66', './.git/objects/e7', './.git/objects/28', './.git/objects/a9', './.git/objects/82', './.git/objects/33', './.git/objects/de', './.git/objects/c6', './.git/objects/a8', './.git/objects/18', './.git/objects/da', './.git/objects/c8', './.git/objects/fe', './.git/objects/74', './.git/objects/af', './.git/objects/70', './.git/objects/6a', './.git/logs', './.git/logs/refs', './.git/logs/refs/heads', './.git/logs/refs/remotes', './.git/logs/refs/remotes/origin', './.ipynb_checkpoints'])\n",
      "7\n"
     ]
    }
   ],
   "source": [
    "# Here we can capture all the paths details in a dictionary along with their coordinating directories(folders) and files\n",
    "paths = {}\n",
    "for dirpath, dirnames, filenames in os.walk('.'):\n",
    "    key = dirpath\n",
    "    if key not in paths:\n",
    "        paths[key] = {}\n",
    "        paths[key]['directories'] = dirnames\n",
    "        paths[key]['files'] = filenames\n",
    "\n",
    "print(paths.keys())\n",
    "print(len(paths['./.git']['files']))"
   ]
  },
  {
   "cell_type": "code",
   "execution_count": 23,
   "metadata": {},
   "outputs": [
    {
     "name": "stdout",
     "output_type": "stream",
     "text": [
      "Total files 6 - ['large_files.py', '.gitignore', 'querying-databases.ipynb', 'README.md', 'sqlite-operations.ipynb', 'large-files.ipynb'] from current root : .\n",
      "Total directories 3 - ['scripts', '.git', '.ipynb_checkpoints'] at current root : .\n",
      "Total files 1 - ['generate_large_files.py'] from current root : ./scripts\n",
      "Total directories 0 - [] at current root : ./scripts\n",
      "Total files 7 - ['index', 'description', 'ORIG_HEAD', 'HEAD', 'config', 'packed-refs', 'FETCH_HEAD'] from current root : ./.git\n",
      "Total directories 5 - ['refs', 'hooks', 'info', 'objects', 'logs'] at current root : ./.git\n",
      "Total files 1 - ['main'] from current root : ./.git/refs/heads\n",
      "Total directories 0 - [] at current root : ./.git/refs/heads\n",
      "Total files 2 - ['HEAD', 'main'] from current root : ./.git/refs/remotes/origin\n",
      "Total directories 0 - [] at current root : ./.git/refs/remotes/origin\n",
      "Total files 11 - ['pre-push.sample', 'pre-applypatch.sample', 'applypatch-msg.sample', 'post-update.sample', 'pre-rebase.sample', 'fsmonitor-watchman.sample', 'prepare-commit-msg.sample', 'commit-msg.sample', 'pre-commit.sample', 'update.sample', 'pre-receive.sample'] from current root : ./.git/hooks\n",
      "Total directories 0 - [] at current root : ./.git/hooks\n",
      "Total files 1 - ['exclude'] from current root : ./.git/info\n",
      "Total directories 0 - [] at current root : ./.git/info\n",
      "Total files 1 - ['62a800dae9c576eb22d703673eb997ea1c171c'] from current root : ./.git/objects/88\n",
      "Total directories 0 - [] at current root : ./.git/objects/88\n",
      "Total files 1 - ['6a1e025adeb3b3ad305a3d0456bc3257e45899'] from current root : ./.git/objects/dd\n",
      "Total directories 0 - [] at current root : ./.git/objects/dd\n",
      "Total files 1 - ['bc35ef788fad96454ad2eaa63127e8dbf2363c'] from current root : ./.git/objects/ec\n",
      "Total directories 0 - [] at current root : ./.git/objects/ec\n",
      "Total files 1 - ['dc322ae5e0148613138b2f74a3b4bce0089b79'] from current root : ./.git/objects/d4\n",
      "Total directories 0 - [] at current root : ./.git/objects/d4\n",
      "Total files 1 - ['e47617de110dea7ca47e087ff1347cc2646eda'] from current root : ./.git/objects/b6\n",
      "Total directories 0 - [] at current root : ./.git/objects/b6\n",
      "Total files 1 - ['91106944f4d75ad5fb9d595a396288f93a13de'] from current root : ./.git/objects/17\n",
      "Total directories 0 - [] at current root : ./.git/objects/17\n",
      "Total files 1 - ['ed2294fbac5c73c6a13bd5a84941d2788d8306'] from current root : ./.git/objects/c1\n",
      "Total directories 0 - [] at current root : ./.git/objects/c1\n",
      "Total files 1 - ['3b70c25abcd803d00691ddf81d5a9cd39726e6'] from current root : ./.git/objects/c9\n",
      "Total directories 0 - [] at current root : ./.git/objects/c9\n",
      "Total files 1 - ['44ff89c71870d38bd578b15cebbb97a670b183'] from current root : ./.git/objects/66\n",
      "Total directories 0 - [] at current root : ./.git/objects/66\n",
      "Total files 1 - ['3417da9105c28b44126690f5806b1ee443de6c'] from current root : ./.git/objects/e7\n",
      "Total directories 0 - [] at current root : ./.git/objects/e7\n",
      "Total files 1 - ['bbdfaefc8ac98b7ace558c8039c5500cc4e10e'] from current root : ./.git/objects/28\n",
      "Total directories 0 - [] at current root : ./.git/objects/28\n",
      "Total files 1 - ['7038b62698b789d7ee41326f7c937b1b670569'] from current root : ./.git/objects/a9\n",
      "Total directories 0 - [] at current root : ./.git/objects/a9\n",
      "Total files 1 - ['dd7daad1b9abdfb5ccf6e668f855f014df61c5'] from current root : ./.git/objects/82\n",
      "Total directories 0 - [] at current root : ./.git/objects/82\n",
      "Total files 1 - ['acad2092b9b4c200ee48a90262c7847a5ed658'] from current root : ./.git/objects/33\n",
      "Total directories 0 - [] at current root : ./.git/objects/33\n",
      "Total files 1 - ['251b81f8cf802643cbb37b155c0a7f235b2950'] from current root : ./.git/objects/de\n",
      "Total directories 0 - [] at current root : ./.git/objects/de\n",
      "Total files 1 - ['758e3c6ec36f655eb783b81570bbee4c3afe63'] from current root : ./.git/objects/c6\n",
      "Total directories 0 - [] at current root : ./.git/objects/c6\n",
      "Total files 1 - ['12a4e6e47c513671f2b174185831a676918422'] from current root : ./.git/objects/a8\n",
      "Total directories 0 - [] at current root : ./.git/objects/a8\n",
      "Total files 1 - ['139b26c12f981afa3ea3781d3c66ee9fb06a91'] from current root : ./.git/objects/18\n",
      "Total directories 0 - [] at current root : ./.git/objects/18\n",
      "Total files 1 - ['a0b4ab4c878b87c70f30f7954d589f539328a8'] from current root : ./.git/objects/da\n",
      "Total directories 0 - [] at current root : ./.git/objects/da\n",
      "Total files 1 - ['4ac288bdf382b140cd4d505c1bf1be9a786929'] from current root : ./.git/objects/c8\n",
      "Total directories 0 - [] at current root : ./.git/objects/c8\n",
      "Total files 1 - ['be85cd6cf368f9ff91e9e1d511b7b3e13fc75a'] from current root : ./.git/objects/fe\n",
      "Total directories 0 - [] at current root : ./.git/objects/fe\n",
      "Total files 1 - ['e2e63201ce9d79491c51ae5abebb785a860bb0'] from current root : ./.git/objects/74\n",
      "Total directories 0 - [] at current root : ./.git/objects/74\n",
      "Total files 1 - ['45c4a98c3f15886b36ad5f6e35e8678d39288b'] from current root : ./.git/objects/af\n",
      "Total directories 0 - [] at current root : ./.git/objects/af\n",
      "Total files 2 - ['68ac61746a2a0ef5f9a150bd8f1dae03da0b6e', '668add32c95d68bb134a6d3c5c18af92e9860c'] from current root : ./.git/objects/70\n",
      "Total directories 0 - [] at current root : ./.git/objects/70\n",
      "Total files 1 - ['faa68ee8936de32e9add08bb41a4d88c058553'] from current root : ./.git/objects/6a\n",
      "Total directories 0 - [] at current root : ./.git/objects/6a\n",
      "Total files 1 - ['HEAD'] from current root : ./.git/logs\n",
      "Total directories 1 - ['refs'] at current root : ./.git/logs\n",
      "Total files 1 - ['main'] from current root : ./.git/logs/refs/heads\n",
      "Total directories 0 - [] at current root : ./.git/logs/refs/heads\n",
      "Total files 2 - ['HEAD', 'main'] from current root : ./.git/logs/refs/remotes/origin\n",
      "Total directories 0 - [] at current root : ./.git/logs/refs/remotes/origin\n",
      "Total files 1 - ['large-files-checkpoint.ipynb'] from current root : ./.ipynb_checkpoints\n",
      "Total directories 0 - [] at current root : ./.ipynb_checkpoints\n"
     ]
    }
   ],
   "source": [
    "# The os module is perfect for filesystem operations like \"walking\" throught directories and files\n",
    "# Although there are many ways of achieving the same effect, a good way to loop over the filesystem is using `os.walk()`\n",
    "import os\n",
    "for root, directories, files in os.walk('.'):\n",
    "    for _file in files:\n",
    "        print(f\"Total files {len(files)} - {files} from current root : {root}\")\n",
    "        print(f\"Total directories {len(directories)} - {directories} at current root : {root}\" )\n",
    "        break"
   ]
  },
  {
   "cell_type": "code",
   "execution_count": 24,
   "metadata": {},
   "outputs": [
    {
     "name": "stdout",
     "output_type": "stream",
     "text": [
      "File found: ./large_files.py\n",
      "File found: ./.gitignore\n",
      "File found: ./querying-databases.ipynb\n",
      "File found: ./README.md\n",
      "File found: ./sqlite-operations.ipynb\n",
      "File found: ./large-files.ipynb\n",
      "File found: ./scripts/generate_large_files.py\n",
      "File found: ./.git/index\n",
      "File found: ./.git/description\n",
      "File found: ./.git/ORIG_HEAD\n",
      "File found: ./.git/HEAD\n",
      "File found: ./.git/config\n",
      "File found: ./.git/packed-refs\n",
      "File found: ./.git/FETCH_HEAD\n",
      "File found: ./.git/refs/heads/main\n",
      "File found: ./.git/refs/remotes/origin/HEAD\n",
      "File found: ./.git/refs/remotes/origin/main\n",
      "File found: ./.git/hooks/pre-push.sample\n",
      "File found: ./.git/hooks/pre-applypatch.sample\n",
      "File found: ./.git/hooks/applypatch-msg.sample\n",
      "File found: ./.git/hooks/post-update.sample\n",
      "File found: ./.git/hooks/pre-rebase.sample\n",
      "File found: ./.git/hooks/fsmonitor-watchman.sample\n",
      "File found: ./.git/hooks/prepare-commit-msg.sample\n",
      "File found: ./.git/hooks/commit-msg.sample\n",
      "File found: ./.git/hooks/pre-commit.sample\n",
      "File found: ./.git/hooks/update.sample\n",
      "File found: ./.git/hooks/pre-receive.sample\n",
      "File found: ./.git/info/exclude\n",
      "File found: ./.git/objects/88/62a800dae9c576eb22d703673eb997ea1c171c\n",
      "File found: ./.git/objects/dd/6a1e025adeb3b3ad305a3d0456bc3257e45899\n",
      "File found: ./.git/objects/ec/bc35ef788fad96454ad2eaa63127e8dbf2363c\n",
      "File found: ./.git/objects/d4/dc322ae5e0148613138b2f74a3b4bce0089b79\n",
      "File found: ./.git/objects/b6/e47617de110dea7ca47e087ff1347cc2646eda\n",
      "File found: ./.git/objects/17/91106944f4d75ad5fb9d595a396288f93a13de\n",
      "File found: ./.git/objects/c1/ed2294fbac5c73c6a13bd5a84941d2788d8306\n",
      "File found: ./.git/objects/c9/3b70c25abcd803d00691ddf81d5a9cd39726e6\n",
      "File found: ./.git/objects/66/44ff89c71870d38bd578b15cebbb97a670b183\n",
      "File found: ./.git/objects/e7/3417da9105c28b44126690f5806b1ee443de6c\n",
      "File found: ./.git/objects/28/bbdfaefc8ac98b7ace558c8039c5500cc4e10e\n",
      "File found: ./.git/objects/a9/7038b62698b789d7ee41326f7c937b1b670569\n",
      "File found: ./.git/objects/82/dd7daad1b9abdfb5ccf6e668f855f014df61c5\n",
      "File found: ./.git/objects/33/acad2092b9b4c200ee48a90262c7847a5ed658\n",
      "File found: ./.git/objects/de/251b81f8cf802643cbb37b155c0a7f235b2950\n",
      "File found: ./.git/objects/c6/758e3c6ec36f655eb783b81570bbee4c3afe63\n",
      "File found: ./.git/objects/a8/12a4e6e47c513671f2b174185831a676918422\n",
      "File found: ./.git/objects/18/139b26c12f981afa3ea3781d3c66ee9fb06a91\n",
      "File found: ./.git/objects/da/a0b4ab4c878b87c70f30f7954d589f539328a8\n",
      "File found: ./.git/objects/c8/4ac288bdf382b140cd4d505c1bf1be9a786929\n",
      "File found: ./.git/objects/fe/be85cd6cf368f9ff91e9e1d511b7b3e13fc75a\n",
      "File found: ./.git/objects/74/e2e63201ce9d79491c51ae5abebb785a860bb0\n",
      "File found: ./.git/objects/af/45c4a98c3f15886b36ad5f6e35e8678d39288b\n",
      "File found: ./.git/objects/70/68ac61746a2a0ef5f9a150bd8f1dae03da0b6e\n",
      "File found: ./.git/objects/70/668add32c95d68bb134a6d3c5c18af92e9860c\n",
      "File found: ./.git/objects/6a/faa68ee8936de32e9add08bb41a4d88c058553\n",
      "File found: ./.git/logs/HEAD\n",
      "File found: ./.git/logs/refs/heads/main\n",
      "File found: ./.git/logs/refs/remotes/origin/HEAD\n",
      "File found: ./.git/logs/refs/remotes/origin/main\n",
      "File found: ./.ipynb_checkpoints/large-files-checkpoint.ipynb\n"
     ]
    }
   ],
   "source": [
    "# Update the loop so that it shows the absolute path of a file ignoring directories which we aren't going to track\n",
    "for root, directories, files in os.walk('.'):\n",
    "    for _file in files:\n",
    "        full_path = os.path.join(root, _file)\n",
    "        print(f\"File found: {full_path}\")\n"
   ]
  },
  {
   "cell_type": "markdown",
   "metadata": {},
   "source": [
    "So now we have a few objectives completed:\n",
    "- Files are detected\n",
    "- Full paths are being collected\n",
    "\n",
    "Next, we need to find size information. Python uses bytes by default for size, so in addition to capturing the size, we'll need to find a way to change bytes to megabytes or gigabytes to make it easier to read"
   ]
  },
  {
   "cell_type": "code",
   "execution_count": 25,
   "metadata": {},
   "outputs": [
    {
     "name": "stdout",
     "output_type": "stream",
     "text": [
      "Size: 275811b - File: ./large_files.py\n",
      "Size: 1799b - File: ./.gitignore\n",
      "Size: 16667b - File: ./querying-databases.ipynb\n",
      "Size: 61b - File: ./README.md\n",
      "Size: 4447b - File: ./sqlite-operations.ipynb\n",
      "Size: 20399b - File: ./large-files.ipynb\n",
      "Size: 639b - File: ./scripts/generate_large_files.py\n",
      "Size: 681b - File: ./.git/index\n",
      "Size: 73b - File: ./.git/description\n",
      "Size: 41b - File: ./.git/ORIG_HEAD\n",
      "Size: 21b - File: ./.git/HEAD\n",
      "Size: 268b - File: ./.git/config\n",
      "Size: 112b - File: ./.git/packed-refs\n",
      "Size: 107b - File: ./.git/FETCH_HEAD\n",
      "Size: 41b - File: ./.git/refs/heads/main\n",
      "Size: 30b - File: ./.git/refs/remotes/origin/HEAD\n",
      "Size: 41b - File: ./.git/refs/remotes/origin/main\n",
      "Size: 1348b - File: ./.git/hooks/pre-push.sample\n",
      "Size: 424b - File: ./.git/hooks/pre-applypatch.sample\n",
      "Size: 478b - File: ./.git/hooks/applypatch-msg.sample\n",
      "Size: 189b - File: ./.git/hooks/post-update.sample\n",
      "Size: 4898b - File: ./.git/hooks/pre-rebase.sample\n",
      "Size: 3327b - File: ./.git/hooks/fsmonitor-watchman.sample\n",
      "Size: 1492b - File: ./.git/hooks/prepare-commit-msg.sample\n",
      "Size: 896b - File: ./.git/hooks/commit-msg.sample\n",
      "Size: 1642b - File: ./.git/hooks/pre-commit.sample\n",
      "Size: 3610b - File: ./.git/hooks/update.sample\n",
      "Size: 544b - File: ./.git/hooks/pre-receive.sample\n",
      "Size: 240b - File: ./.git/info/exclude\n",
      "Size: 2461b - File: ./.git/objects/88/62a800dae9c576eb22d703673eb997ea1c171c\n",
      "Size: 235b - File: ./.git/objects/dd/6a1e025adeb3b3ad305a3d0456bc3257e45899\n",
      "Size: 166b - File: ./.git/objects/ec/bc35ef788fad96454ad2eaa63127e8dbf2363c\n",
      "Size: 67b - File: ./.git/objects/d4/dc322ae5e0148613138b2f74a3b4bce0089b79\n",
      "Size: 1011b - File: ./.git/objects/b6/e47617de110dea7ca47e087ff1347cc2646eda\n",
      "Size: 1686b - File: ./.git/objects/17/91106944f4d75ad5fb9d595a396288f93a13de\n",
      "Size: 130b - File: ./.git/objects/c1/ed2294fbac5c73c6a13bd5a84941d2788d8306\n",
      "Size: 163b - File: ./.git/objects/c9/3b70c25abcd803d00691ddf81d5a9cd39726e6\n",
      "Size: 276b - File: ./.git/objects/66/44ff89c71870d38bd578b15cebbb97a670b183\n",
      "Size: 171b - File: ./.git/objects/e7/3417da9105c28b44126690f5806b1ee443de6c\n",
      "Size: 4923b - File: ./.git/objects/28/bbdfaefc8ac98b7ace558c8039c5500cc4e10e\n",
      "Size: 170b - File: ./.git/objects/a9/7038b62698b789d7ee41326f7c937b1b670569\n",
      "Size: 510b - File: ./.git/objects/82/dd7daad1b9abdfb5ccf6e668f855f014df61c5\n",
      "Size: 276b - File: ./.git/objects/33/acad2092b9b4c200ee48a90262c7847a5ed658\n",
      "Size: 171b - File: ./.git/objects/de/251b81f8cf802643cbb37b155c0a7f235b2950\n",
      "Size: 171b - File: ./.git/objects/c6/758e3c6ec36f655eb783b81570bbee4c3afe63\n",
      "Size: 2539b - File: ./.git/objects/a8/12a4e6e47c513671f2b174185831a676918422\n",
      "Size: 87b - File: ./.git/objects/18/139b26c12f981afa3ea3781d3c66ee9fb06a91\n",
      "Size: 1139b - File: ./.git/objects/da/a0b4ab4c878b87c70f30f7954d589f539328a8\n",
      "Size: 4804b - File: ./.git/objects/c8/4ac288bdf382b140cd4d505c1bf1be9a786929\n",
      "Size: 44320b - File: ./.git/objects/fe/be85cd6cf368f9ff91e9e1d511b7b3e13fc75a\n",
      "Size: 276b - File: ./.git/objects/74/e2e63201ce9d79491c51ae5abebb785a860bb0\n",
      "Size: 334b - File: ./.git/objects/af/45c4a98c3f15886b36ad5f6e35e8678d39288b\n",
      "Size: 178b - File: ./.git/objects/70/68ac61746a2a0ef5f9a150bd8f1dae03da0b6e\n",
      "Size: 67b - File: ./.git/objects/70/668add32c95d68bb134a6d3c5c18af92e9860c\n",
      "Size: 1633b - File: ./.git/objects/6a/faa68ee8936de32e9add08bb41a4d88c058553\n",
      "Size: 506b - File: ./.git/logs/HEAD\n",
      "Size: 349b - File: ./.git/logs/refs/heads/main\n",
      "Size: 195b - File: ./.git/logs/refs/remotes/origin/HEAD\n",
      "Size: 154b - File: ./.git/logs/refs/remotes/origin/main\n",
      "Size: 8288b - File: ./.ipynb_checkpoints/large-files-checkpoint.ipynb\n"
     ]
    }
   ],
   "source": [
    "# Update the loop to include the file size\n",
    "for root, directories, files in os.walk('.'):\n",
    "    for _file in files:\n",
    "        full_path = os.path.join(root, _file)\n",
    "        size = os.path.getsize(full_path)\n",
    "        print(f\"Size: {size}b - File: {full_path}\")"
   ]
  },
  {
   "cell_type": "code",
   "execution_count": 26,
   "metadata": {},
   "outputs": [
    {
     "name": "stdout",
     "output_type": "stream",
     "text": [
      "{'./large_files.py': 275811, './.gitignore': 1799, './querying-databases.ipynb': 16667, './README.md': 61, './sqlite-operations.ipynb': 4447, './large-files.ipynb': 23846, './scripts/generate_large_files.py': 639, './.git/index': 681, './.git/description': 73, './.git/ORIG_HEAD': 41, './.git/HEAD': 21, './.git/config': 268, './.git/packed-refs': 112, './.git/FETCH_HEAD': 107, './.git/refs/heads/main': 41, './.git/refs/remotes/origin/HEAD': 30, './.git/refs/remotes/origin/main': 41, './.git/hooks/pre-push.sample': 1348, './.git/hooks/pre-applypatch.sample': 424, './.git/hooks/applypatch-msg.sample': 478, './.git/hooks/post-update.sample': 189, './.git/hooks/pre-rebase.sample': 4898, './.git/hooks/fsmonitor-watchman.sample': 3327, './.git/hooks/prepare-commit-msg.sample': 1492, './.git/hooks/commit-msg.sample': 896, './.git/hooks/pre-commit.sample': 1642, './.git/hooks/update.sample': 3610, './.git/hooks/pre-receive.sample': 544, './.git/info/exclude': 240, './.git/objects/88/62a800dae9c576eb22d703673eb997ea1c171c': 2461, './.git/objects/dd/6a1e025adeb3b3ad305a3d0456bc3257e45899': 235, './.git/objects/ec/bc35ef788fad96454ad2eaa63127e8dbf2363c': 166, './.git/objects/d4/dc322ae5e0148613138b2f74a3b4bce0089b79': 67, './.git/objects/b6/e47617de110dea7ca47e087ff1347cc2646eda': 1011, './.git/objects/17/91106944f4d75ad5fb9d595a396288f93a13de': 1686, './.git/objects/c1/ed2294fbac5c73c6a13bd5a84941d2788d8306': 130, './.git/objects/c9/3b70c25abcd803d00691ddf81d5a9cd39726e6': 163, './.git/objects/66/44ff89c71870d38bd578b15cebbb97a670b183': 276, './.git/objects/e7/3417da9105c28b44126690f5806b1ee443de6c': 171, './.git/objects/28/bbdfaefc8ac98b7ace558c8039c5500cc4e10e': 4923, './.git/objects/a9/7038b62698b789d7ee41326f7c937b1b670569': 170, './.git/objects/82/dd7daad1b9abdfb5ccf6e668f855f014df61c5': 510, './.git/objects/33/acad2092b9b4c200ee48a90262c7847a5ed658': 276, './.git/objects/de/251b81f8cf802643cbb37b155c0a7f235b2950': 171, './.git/objects/c6/758e3c6ec36f655eb783b81570bbee4c3afe63': 171, './.git/objects/a8/12a4e6e47c513671f2b174185831a676918422': 2539, './.git/objects/18/139b26c12f981afa3ea3781d3c66ee9fb06a91': 87, './.git/objects/da/a0b4ab4c878b87c70f30f7954d589f539328a8': 1139, './.git/objects/c8/4ac288bdf382b140cd4d505c1bf1be9a786929': 4804, './.git/objects/fe/be85cd6cf368f9ff91e9e1d511b7b3e13fc75a': 44320, './.git/objects/74/e2e63201ce9d79491c51ae5abebb785a860bb0': 276, './.git/objects/af/45c4a98c3f15886b36ad5f6e35e8678d39288b': 334, './.git/objects/70/68ac61746a2a0ef5f9a150bd8f1dae03da0b6e': 178, './.git/objects/70/668add32c95d68bb134a6d3c5c18af92e9860c': 67, './.git/objects/6a/faa68ee8936de32e9add08bb41a4d88c058553': 1633, './.git/logs/HEAD': 506, './.git/logs/refs/heads/main': 349, './.git/logs/refs/remotes/origin/HEAD': 195, './.git/logs/refs/remotes/origin/main': 154, './.ipynb_checkpoints/large-files-checkpoint.ipynb': 8288}\n"
     ]
    }
   ],
   "source": [
    "# Persist the data into a dictionary. Since file paths are unique you can use those as dictionary keys\n",
    "file_metadata = {}\n",
    "for root, directories, files in os.walk('.'):\n",
    "    for _file in files:\n",
    "        full_path = os.path.join(root, _file)\n",
    "        size = os.path.getsize(full_path)\n",
    "        file_metadata[full_path] = size\n",
    "print(file_metadata)"
   ]
  },
  {
   "cell_type": "markdown",
   "metadata": {},
   "source": [
    "**Exercise:** Now that the metadata is captured and stored in a suitable data structure like a dictionary, report back the results with only the four largest files. Try using other quantities to report on, like the 10 largest files instead of 4."
   ]
  },
  {
   "cell_type": "code",
   "execution_count": 38,
   "metadata": {},
   "outputs": [],
   "source": [
    "# for metadata file above\n",
    "def largestXFiles(x):\n",
    "    largestDictionaryValues = sorted(file_metadata, key=lambda x: x[1], reverse=True)[:x]\n",
    "    # conditional way of grabbing the top values w/dict comprehension\n",
    "    print({k: file_metadata[k] for k in file_metadata.keys() if k in largestDictionaryValues})\n",
    "    print(f\"The largest {x} files within the file_metadata object are : {largestDictionaryValues}\")"
   ]
  },
  {
   "cell_type": "code",
   "execution_count": 39,
   "metadata": {},
   "outputs": [
    {
     "name": "stdout",
     "output_type": "stream",
     "text": [
      "{'./large_files.py': 275811, './.gitignore': 1799, './querying-databases.ipynb': 16667, './README.md': 61, './sqlite-operations.ipynb': 4447}\n",
      "The largest 5 files within the file_metadata object are : ['./large_files.py', './.gitignore', './querying-databases.ipynb', './README.md', './sqlite-operations.ipynb']\n"
     ]
    }
   ],
   "source": [
    "largestXFiles(5)"
   ]
  },
  {
   "cell_type": "code",
   "execution_count": 41,
   "metadata": {},
   "outputs": [
    {
     "name": "stdout",
     "output_type": "stream",
     "text": [
      "{'./large_files.py': 275811, './.gitignore': 1799, './querying-databases.ipynb': 16667, './README.md': 61, './sqlite-operations.ipynb': 4447, './large-files.ipynb': 23846, './scripts/generate_large_files.py': 639, './.git/index': 681}\n",
      "The largest 8 files within the file_metadata object are : ['./large_files.py', './.gitignore', './querying-databases.ipynb', './README.md', './sqlite-operations.ipynb', './large-files.ipynb', './scripts/generate_large_files.py', './.git/index']\n"
     ]
    }
   ],
   "source": [
    "largestXFiles(8)"
   ]
  }
 ],
 "metadata": {
  "interpreter": {
   "hash": "904aaa8d64bef68f2ffda03272599bba12aa237240eb8594526423b3c4f1b9a0"
  },
  "kernelspec": {
   "display_name": "Python 3",
   "language": "python",
   "name": "python3"
  },
  "language_info": {
   "codemirror_mode": {
    "name": "ipython",
    "version": 3
   },
   "file_extension": ".py",
   "mimetype": "text/x-python",
   "name": "python",
   "nbconvert_exporter": "python",
   "pygments_lexer": "ipython3",
   "version": "3.7.6"
  }
 },
 "nbformat": 4,
 "nbformat_minor": 2
}
